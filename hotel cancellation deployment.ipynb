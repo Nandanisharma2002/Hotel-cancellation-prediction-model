{
 "cells": [
  {
   "cell_type": "code",
   "execution_count": 10,
   "id": "5b47e47f",
   "metadata": {},
   "outputs": [],
   "source": [
    "# ! pip install gradio"
   ]
  },
  {
   "cell_type": "code",
   "execution_count": 11,
   "id": "158593f6",
   "metadata": {},
   "outputs": [],
   "source": [
    "import gradio as gr\n",
    "import pickle\n",
    "import warnings\n",
    "warnings.filterwarnings('ignore')"
   ]
  },
  {
   "cell_type": "code",
   "execution_count": 12,
   "id": "c861de9d",
   "metadata": {},
   "outputs": [],
   "source": [
    "# load the model\n",
    "with open('final_model.pkl','rb') as file:                  # read binary rb for reading file\n",
    "    final_model=pickle.load(file)"
   ]
  },
  {
   "cell_type": "code",
   "execution_count": 15,
   "id": "61153b68",
   "metadata": {},
   "outputs": [],
   "source": [
    "# lets define to make prediction\n",
    "def prediction(lt,spreq,price,adult,wkend,park,week,arday,armnth,arwkdy,seg):\n",
    "    input_data=[[lt,spreq,price,adult,wkend,park,week,arday,armnth,arwkdy,seg]]\n",
    "    prob=final_model.predict_proba(input_data)[:,1][0]           # 0 is used for getting only value within array not array\n",
    "    if prob>0.34:\n",
    "        return \"this booking might get cancelled\"\n",
    "    else:\n",
    "        return \"this booking will not get cancelled\""
   ]
  },
  {
   "cell_type": "code",
   "execution_count": 16,
   "id": "42c7e352",
   "metadata": {},
   "outputs": [
    {
     "data": {
      "text/plain": [
       "'this booking might get cancelled'"
      ]
     },
     "execution_count": 16,
     "metadata": {},
     "output_type": "execute_result"
    }
   ],
   "source": [
    "prediction(60,0,100,1,2,0,2,4,6,1,1)     # lead time, arrival day etc.."
   ]
  },
  {
   "cell_type": "code",
   "execution_count": 27,
   "id": "34bcbafb",
   "metadata": {},
   "outputs": [],
   "source": [
    "iface=gr.Interface(fn=prediction,\n",
    "                  inputs=[gr.Number(label='how many prior days booking has been made'),\n",
    "                         gr.Dropdown([0,1,2,3,4,5],label='how many special request have been made?'),\n",
    "                         gr.Number(label='what is the avg room price'),\n",
    "                         gr.Dropdown([0,1,2,3,4],label='how many adults per room?'),\n",
    "                         gr.Number(label='how many weekends are there in stay'),\n",
    "                         gr.Dropdown([('yes',1),('no',0)],label='is parking included in booking?'),\n",
    "                         gr.Number(label='how many week days'),\n",
    "                         gr.Slider(minimum=1,maximum=31,step=1,label='enter the day of arrival'),\n",
    "                         gr.Slider(minimum=1,maximum=12,step=1,label='enter the month of arrival'),\n",
    "                         gr.Dropdown([('Mon',0),('Tue',1),('Wed',2),('Thus',3),('Fri',4),('Sat',5),('Sun',6)],\n",
    "                                    label='weekday of arrival?'),\n",
    "                         gr.Dropdown([('Online',1),('Offline',0)],label='what is the mode of booking')],\n",
    "                   \n",
    "                  outputs=gr.Textbox(label='predicted booking status'),\n",
    "                  title=\"INN HOTEL's GROUPS\",\n",
    "                  description='This application will forecast cancellation of booking',\n",
    "                  allow_flagging='never')"
   ]
  },
  {
   "cell_type": "code",
   "execution_count": 28,
   "id": "897e4796",
   "metadata": {},
   "outputs": [
    {
     "name": "stdout",
     "output_type": "stream",
     "text": [
      "Running on local URL:  http://127.0.0.1:7861\n",
      "\n",
      "To create a public link, set `share=True` in `launch()`.\n"
     ]
    },
    {
     "data": {
      "text/html": [
       "<div><iframe src=\"http://127.0.0.1:7861/\" width=\"100%\" height=\"500\" allow=\"autoplay; camera; microphone; clipboard-read; clipboard-write;\" frameborder=\"0\" allowfullscreen></iframe></div>"
      ],
      "text/plain": [
       "<IPython.core.display.HTML object>"
      ]
     },
     "metadata": {},
     "output_type": "display_data"
    },
    {
     "data": {
      "text/plain": []
     },
     "execution_count": 28,
     "metadata": {},
     "output_type": "execute_result"
    }
   ],
   "source": [
    "iface.launch()"
   ]
  }
 ],
 "metadata": {
  "kernelspec": {
   "display_name": "Python 3 (ipykernel)",
   "language": "python",
   "name": "python3"
  },
  "language_info": {
   "codemirror_mode": {
    "name": "ipython",
    "version": 3
   },
   "file_extension": ".py",
   "mimetype": "text/x-python",
   "name": "python",
   "nbconvert_exporter": "python",
   "pygments_lexer": "ipython3",
   "version": "3.11.5"
  }
 },
 "nbformat": 4,
 "nbformat_minor": 5
}
